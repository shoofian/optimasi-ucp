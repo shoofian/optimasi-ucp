{
 "cells": [
  {
   "cell_type": "code",
   "execution_count": 1,
   "metadata": {},
   "outputs": [],
   "source": [
    "import pyswarms as ps\n",
    "import numpy as np\n",
    "import pandas as pd\n",
    "from pyswarms.utils.search import RandomSearch\n",
    "from pyswarms.utils.functions import single_obj as fx\n",
    "import matplotlib.pyplot as plt\n",
    "from openpyxl import load_workbook"
   ]
  },
  {
   "cell_type": "code",
   "execution_count": 2,
   "metadata": {},
   "outputs": [
    {
     "data": {
      "text/html": [
       "<div>\n",
       "<style scoped>\n",
       "    .dataframe tbody tr th:only-of-type {\n",
       "        vertical-align: middle;\n",
       "    }\n",
       "\n",
       "    .dataframe tbody tr th {\n",
       "        vertical-align: top;\n",
       "    }\n",
       "\n",
       "    .dataframe thead th {\n",
       "        text-align: right;\n",
       "    }\n",
       "</style>\n",
       "<table border=\"1\" class=\"dataframe\">\n",
       "  <thead>\n",
       "    <tr style=\"text-align: right;\">\n",
       "      <th></th>\n",
       "      <th>UAW</th>\n",
       "      <th>Smpl</th>\n",
       "      <th>Avg</th>\n",
       "      <th>Cmplx</th>\n",
       "      <th>UUCW</th>\n",
       "      <th>TCF</th>\n",
       "      <th>ECF</th>\n",
       "      <th>UCP</th>\n",
       "      <th>Real_Effort</th>\n",
       "      <th>Desired_UUCW</th>\n",
       "    </tr>\n",
       "  </thead>\n",
       "  <tbody>\n",
       "    <tr>\n",
       "      <th>1</th>\n",
       "      <td>9</td>\n",
       "      <td>6</td>\n",
       "      <td>10</td>\n",
       "      <td>15</td>\n",
       "      <td>355</td>\n",
       "      <td>0.81</td>\n",
       "      <td>0.84</td>\n",
       "      <td>398.5</td>\n",
       "      <td>7970</td>\n",
       "      <td>0</td>\n",
       "    </tr>\n",
       "    <tr>\n",
       "      <th>2</th>\n",
       "      <td>8</td>\n",
       "      <td>4</td>\n",
       "      <td>20</td>\n",
       "      <td>15</td>\n",
       "      <td>445</td>\n",
       "      <td>0.99</td>\n",
       "      <td>0.99</td>\n",
       "      <td>398.1</td>\n",
       "      <td>7962</td>\n",
       "      <td>0</td>\n",
       "    </tr>\n",
       "    <tr>\n",
       "      <th>3</th>\n",
       "      <td>9</td>\n",
       "      <td>1</td>\n",
       "      <td>5</td>\n",
       "      <td>20</td>\n",
       "      <td>355</td>\n",
       "      <td>1.03</td>\n",
       "      <td>0.8</td>\n",
       "      <td>396.75</td>\n",
       "      <td>7935</td>\n",
       "      <td>0</td>\n",
       "    </tr>\n",
       "    <tr>\n",
       "      <th>4</th>\n",
       "      <td>8</td>\n",
       "      <td>5</td>\n",
       "      <td>10</td>\n",
       "      <td>15</td>\n",
       "      <td>350</td>\n",
       "      <td>0.9</td>\n",
       "      <td>0.91</td>\n",
       "      <td>390.25</td>\n",
       "      <td>7805</td>\n",
       "      <td>0</td>\n",
       "    </tr>\n",
       "    <tr>\n",
       "      <th>5</th>\n",
       "      <td>8</td>\n",
       "      <td>1</td>\n",
       "      <td>10</td>\n",
       "      <td>16</td>\n",
       "      <td>345</td>\n",
       "      <td>0.9</td>\n",
       "      <td>0.91</td>\n",
       "      <td>387.9</td>\n",
       "      <td>7758</td>\n",
       "      <td>0</td>\n",
       "    </tr>\n",
       "    <tr>\n",
       "      <th>...</th>\n",
       "      <td>...</td>\n",
       "      <td>...</td>\n",
       "      <td>...</td>\n",
       "      <td>...</td>\n",
       "      <td>...</td>\n",
       "      <td>...</td>\n",
       "      <td>...</td>\n",
       "      <td>...</td>\n",
       "      <td>...</td>\n",
       "      <td>...</td>\n",
       "    </tr>\n",
       "    <tr>\n",
       "      <th>67</th>\n",
       "      <td>18</td>\n",
       "      <td>2</td>\n",
       "      <td>18</td>\n",
       "      <td>18</td>\n",
       "      <td>460</td>\n",
       "      <td>1.05</td>\n",
       "      <td>0.95</td>\n",
       "      <td>290</td>\n",
       "      <td>5800</td>\n",
       "      <td>0</td>\n",
       "    </tr>\n",
       "    <tr>\n",
       "      <th>68</th>\n",
       "      <td>17</td>\n",
       "      <td>1</td>\n",
       "      <td>23</td>\n",
       "      <td>22</td>\n",
       "      <td>565</td>\n",
       "      <td>1.03</td>\n",
       "      <td>0.8</td>\n",
       "      <td>289.55</td>\n",
       "      <td>5791</td>\n",
       "      <td>0</td>\n",
       "    </tr>\n",
       "    <tr>\n",
       "      <th>69</th>\n",
       "      <td>19</td>\n",
       "      <td>5</td>\n",
       "      <td>30</td>\n",
       "      <td>10</td>\n",
       "      <td>475</td>\n",
       "      <td>0.95</td>\n",
       "      <td>0.92</td>\n",
       "      <td>289.1</td>\n",
       "      <td>5782</td>\n",
       "      <td>0</td>\n",
       "    </tr>\n",
       "    <tr>\n",
       "      <th>70</th>\n",
       "      <td>6</td>\n",
       "      <td>5</td>\n",
       "      <td>15</td>\n",
       "      <td>5</td>\n",
       "      <td>250</td>\n",
       "      <td>1</td>\n",
       "      <td>0.92</td>\n",
       "      <td>288.9</td>\n",
       "      <td>5778</td>\n",
       "      <td>0</td>\n",
       "    </tr>\n",
       "    <tr>\n",
       "      <th>71</th>\n",
       "      <td>18</td>\n",
       "      <td>5</td>\n",
       "      <td>18</td>\n",
       "      <td>17</td>\n",
       "      <td>460</td>\n",
       "      <td>0.85</td>\n",
       "      <td>0.89</td>\n",
       "      <td>288.75</td>\n",
       "      <td>5775</td>\n",
       "      <td>0</td>\n",
       "    </tr>\n",
       "  </tbody>\n",
       "</table>\n",
       "<p>71 rows × 10 columns</p>\n",
       "</div>"
      ],
      "text/plain": [
       "   UAW Smpl Avg Cmplx UUCW   TCF   ECF     UCP Real_Effort  Desired_UUCW\n",
       "1    9    6  10    15  355  0.81  0.84   398.5        7970             0\n",
       "2    8    4  20    15  445  0.99  0.99   398.1        7962             0\n",
       "3    9    1   5    20  355  1.03   0.8  396.75        7935             0\n",
       "4    8    5  10    15  350   0.9  0.91  390.25        7805             0\n",
       "5    8    1  10    16  345   0.9  0.91   387.9        7758             0\n",
       "..  ..  ...  ..   ...  ...   ...   ...     ...         ...           ...\n",
       "67  18    2  18    18  460  1.05  0.95     290        5800             0\n",
       "68  17    1  23    22  565  1.03   0.8  289.55        5791             0\n",
       "69  19    5  30    10  475  0.95  0.92   289.1        5782             0\n",
       "70   6    5  15     5  250     1  0.92   288.9        5778             0\n",
       "71  18    5  18    17  460  0.85  0.89  288.75        5775             0\n",
       "\n",
       "[71 rows x 10 columns]"
      ]
     },
     "execution_count": 2,
     "metadata": {},
     "output_type": "execute_result"
    }
   ],
   "source": [
    "wb = load_workbook(filename= 'dataset.xlsx')\n",
    "sheet_ranges = wb['Sheet 1']\n",
    "\n",
    "df = pd.DataFrame(sheet_ranges.values)\n",
    "df\n",
    "\n",
    "col = df[1:72][[4,5,6,7,9,10,11,12,13]]\n",
    "col.columns = ['UAW','Smpl','Avg','Cmplx','UUCW','TCF','ECF','UCP','Real_Effort']\n",
    "cols = pd.DataFrame(col)\n",
    "\n",
    "cols.insert(9,\"Desired_UUCW\", 0 , True)\n",
    "cols"
   ]
  },
  {
   "cell_type": "code",
   "execution_count": 3,
   "metadata": {},
   "outputs": [
    {
     "name": "stdout",
     "output_type": "stream",
     "text": [
      "   UAW Smpl Avg Cmplx UUCW   TCF   ECF     UCP Real_Effort  Desired_UUCW\n",
      "1    9    6  10    15  355  0.81  0.84   398.5        7970           576\n",
      "2    8    4  20    15  445  0.99  0.99   398.1        7962           398\n",
      "3    9    1   5    20  355  1.03   0.8  396.75        7935           472\n",
      "4    8    5  10    15  350   0.9  0.91  390.25        7805           468\n",
      "5    8    1  10    16  345   0.9  0.91   387.9        7758           465\n",
      "..  ..  ...  ..   ...  ...   ...   ...     ...         ...           ...\n",
      "67  18    2  18    18  460  1.05  0.95     290        5800           272\n",
      "68  17    1  23    22  565  1.03   0.8  289.55        5791           334\n",
      "69  19    5  30    10  475  0.95  0.92   289.1        5782           311\n",
      "70   6    5  15     5  250     1  0.92   288.9        5778           308\n",
      "71  18    5  18    17  460  0.85  0.89  288.75        5775           363\n",
      "\n",
      "[71 rows x 10 columns]\n"
     ]
    }
   ],
   "source": [
    "for index, row in cols.iterrows():\n",
    "    UAW = cols.loc[index,\"UAW\"]\n",
    "    UUCW = cols.loc[index,\"UUCW\"]\n",
    "    TCF = cols.loc[index,\"TCF\"]\n",
    "    ECF = cols.loc[index,\"ECF\"]\n",
    "    Real_E = cols.loc[index,\"Real_Effort\"]    \n",
    "    desired_UUCW = Real_E/((TCF*ECF)*20)-UAW\n",
    "    cols.at[index, 'Desired_UUCW'] = np.round(desired_UUCW,1)\n",
    "    \n",
    "print(cols)"
   ]
  },
  {
   "cell_type": "code",
   "execution_count": 4,
   "metadata": {},
   "outputs": [
    {
     "name": "stderr",
     "output_type": "stream",
     "text": [
      "2021-04-07 20:11:18,969 - pyswarms.single.global_best - INFO - Optimize for 100 iters with {'c1': 0.5, 'c2': 0.3, 'w': 0.9}\n",
      "pyswarms.single.global_best: 100%|██████████████████████████████████████████████████████████|100/100, best_cost=7.45e-8\n",
      "2021-04-07 20:11:19,190 - pyswarms.single.global_best - INFO - Optimization finished | best cost: 7.446441080188751e-08, best pos: [0.00022623 0.0001526 ]\n"
     ]
    }
   ],
   "source": [
    "# Set-up hyperparameters\n",
    "options = {'c1': 0.5, 'c2': 0.3, 'w':0.9}\n",
    "# Call instance of PSO\n",
    "optimizer = ps.single.GlobalBestPSO(n_particles=10, dimensions=2, options=options)\n",
    "# Perform optimization\n",
    "best_cost, best_pos = optimizer.optimize(fx.sphere, iters=100)"
   ]
  },
  {
   "cell_type": "code",
   "execution_count": 5,
   "metadata": {},
   "outputs": [
    {
     "name": "stderr",
     "output_type": "stream",
     "text": [
      "2021-04-07 20:11:24,344 - pyswarms.single.global_best - INFO - Optimize for 100 iters with {'c1': 0.5, 'c2': 0.3, 'w': 0.9}\n",
      "pyswarms.single.global_best: 100%|██████████████████████████████████████████████████████████|100/100, best_cost=1.24e-8\n",
      "2021-04-07 20:11:24,523 - pyswarms.single.global_best - INFO - Optimization finished | best cost: 1.2394120054937396e-08, best pos: [9.71771889e-05 5.43204750e-05]\n",
      "2021-04-07 20:11:24,525 - pyswarms.single.global_best - INFO - Optimize for 100 iters with {'c1': 0.5, 'c2': 0.3, 'w': 0.9}\n",
      "pyswarms.single.global_best: 100%|██████████████████████████████████████████████████████████|100/100, best_cost=1.16e-8\n",
      "2021-04-07 20:11:24,673 - pyswarms.single.global_best - INFO - Optimization finished | best cost: 1.1647811683005201e-08, best pos: [-4.25947417e-05 -9.91640039e-05]\n",
      "2021-04-07 20:11:24,675 - pyswarms.single.global_best - INFO - Optimize for 100 iters with {'c1': 0.5, 'c2': 0.3, 'w': 0.9}\n",
      "pyswarms.single.global_best: 100%|███████████████████████████████████████████████████████████|100/100, best_cost=3.4e-9\n",
      "2021-04-07 20:11:24,838 - pyswarms.single.global_best - INFO - Optimization finished | best cost: 3.397103310673416e-09, best pos: [ 2.06714845e-05 -5.44958075e-05]\n",
      "2021-04-07 20:11:24,904 - pyswarms.single.global_best - INFO - Optimize for 100 iters with {'c1': 0.5, 'c2': 0.3, 'w': 0.9}\n",
      "pyswarms.single.global_best:  58%|██████████████████████████████████▏                        |58/100, best_cost=1.44e-7"
     ]
    },
    {
     "name": "stdout",
     "output_type": "stream",
     "text": [
      "\n",
      "generasi ke 0\n",
      "ucp 6.123600156087344\n",
      "smpl 6.197060027468699e-08\n",
      "avg 1.1647811683005202e-07\n",
      "cmplx 5.0956549660101236e-08\n"
     ]
    },
    {
     "name": "stderr",
     "output_type": "stream",
     "text": [
      "pyswarms.single.global_best: 100%|█████████████████████████████████████████████████████████|100/100, best_cost=8.35e-10\n",
      "2021-04-07 20:11:25,094 - pyswarms.single.global_best - INFO - Optimization finished | best cost: 8.350928314436578e-10, best pos: [ 2.84793626e-05 -4.90089133e-06]\n",
      "2021-04-07 20:11:25,095 - pyswarms.single.global_best - INFO - Optimize for 100 iters with {'c1': 0.5, 'c2': 0.3, 'w': 0.9}\n",
      "pyswarms.single.global_best: 100%|██████████████████████████████████████████████████████████|100/100, best_cost=3.64e-9\n",
      "2021-04-07 20:11:25,301 - pyswarms.single.global_best - INFO - Optimization finished | best cost: 3.6356569362848492e-09, best pos: [ 3.91666697e-05 -4.58435265e-05]\n",
      "2021-04-07 20:11:25,305 - pyswarms.single.global_best - INFO - Optimize for 100 iters with {'c1': 0.5, 'c2': 0.3, 'w': 0.9}\n",
      "pyswarms.single.global_best: 100%|███████████████████████████████████████████████████████████|100/100, best_cost=3.6e-9\n",
      "2021-04-07 20:11:25,556 - pyswarms.single.global_best - INFO - Optimization finished | best cost: 3.5998984469106122e-09, best pos: [-1.22106912e-05  5.87434887e-05]\n",
      "2021-04-07 20:11:25,610 - pyswarms.single.global_best - INFO - Optimize for 100 iters with {'c1': 0.5, 'c2': 0.3, 'w': 0.9}\n",
      "pyswarms.single.global_best:  48%|████████████████████████████▎                              |48/100, best_cost=1.39e-6"
     ]
    },
    {
     "name": "stdout",
     "output_type": "stream",
     "text": [
      "\n",
      "generasi ke 1\n",
      "ucp 6.123600064318559\n",
      "smpl 4.175464157218289e-09\n",
      "avg 3.635656936284849e-08\n",
      "cmplx 5.3998476703659185e-08\n"
     ]
    },
    {
     "name": "stderr",
     "output_type": "stream",
     "text": [
      "pyswarms.single.global_best: 100%|███████████████████████████████████████████████████████████|100/100, best_cost=1.2e-8\n",
      "2021-04-07 20:11:25,848 - pyswarms.single.global_best - INFO - Optimization finished | best cost: 1.199869547846932e-08, best pos: [ 5.72432158e-05 -9.33911651e-05]\n",
      "2021-04-07 20:11:25,850 - pyswarms.single.global_best - INFO - Optimize for 100 iters with {'c1': 0.5, 'c2': 0.3, 'w': 0.9}\n",
      "pyswarms.single.global_best: 100%|██████████████████████████████████████████████████████████|100/100, best_cost=3.17e-9\n",
      "2021-04-07 20:11:26,064 - pyswarms.single.global_best - INFO - Optimization finished | best cost: 3.172828541577131e-09, best pos: [-4.76940736e-05  2.99683814e-05]\n",
      "2021-04-07 20:11:26,065 - pyswarms.single.global_best - INFO - Optimize for 100 iters with {'c1': 0.5, 'c2': 0.3, 'w': 0.9}\n",
      "pyswarms.single.global_best: 100%|██████████████████████████████████████████████████████████|100/100, best_cost=1.44e-8\n",
      "2021-04-07 20:11:26,275 - pyswarms.single.global_best - INFO - Optimization finished | best cost: 1.4390211376152848e-08, best pos: [-5.37759309e-06  1.19838612e-04]\n",
      "2021-04-07 20:11:26,331 - pyswarms.single.global_best - INFO - Optimize for 100 iters with {'c1': 0.5, 'c2': 0.3, 'w': 0.9}\n",
      "pyswarms.single.global_best:  47%|███████████████████████████▋                               |47/100, best_cost=2.64e-6"
     ]
    },
    {
     "name": "stdout",
     "output_type": "stream",
     "text": [
      "\n",
      "generasi ke 2\n",
      "ucp 6.1236002092739845\n",
      "smpl 5.99934773923466e-08\n",
      "avg 3.172828541577131e-08\n",
      "cmplx 2.1585317064229272e-07\n"
     ]
    },
    {
     "name": "stderr",
     "output_type": "stream",
     "text": [
      "pyswarms.single.global_best: 100%|██████████████████████████████████████████████████████████|100/100, best_cost=7.61e-9\n",
      "2021-04-07 20:11:26,551 - pyswarms.single.global_best - INFO - Optimization finished | best cost: 7.608373118469783e-09, best pos: [-2.91279592e-05  8.22188245e-05]\n",
      "2021-04-07 20:11:26,554 - pyswarms.single.global_best - INFO - Optimize for 100 iters with {'c1': 0.5, 'c2': 0.3, 'w': 0.9}\n",
      "pyswarms.single.global_best: 100%|██████████████████████████████████████████████████████████|100/100, best_cost=1.12e-8\n",
      "2021-04-07 20:11:26,766 - pyswarms.single.global_best - INFO - Optimization finished | best cost: 1.117401806489988e-08, best pos: [ 1.17401496e-05 -1.05053258e-04]\n",
      "2021-04-07 20:11:26,770 - pyswarms.single.global_best - INFO - Optimize for 100 iters with {'c1': 0.5, 'c2': 0.3, 'w': 0.9}\n",
      "pyswarms.single.global_best: 100%|██████████████████████████████████████████████████████████|100/100, best_cost=6.99e-9\n",
      "2021-04-07 20:11:27,013 - pyswarms.single.global_best - INFO - Optimization finished | best cost: 6.986257441903593e-09, best pos: [-2.67406529e-05 -7.91908765e-05]\n",
      "2021-04-07 20:11:27,059 - pyswarms.single.global_best - INFO - Optimize for 100 iters with {'c1': 0.5, 'c2': 0.3, 'w': 0.9}\n",
      "pyswarms.single.global_best:  52%|██████████████████████████████▋                            |52/100, best_cost=8.44e-8"
     ]
    },
    {
     "name": "stdout",
     "output_type": "stream",
     "text": [
      "\n",
      "generasi ke 3\n",
      "ucp 6.123600173213447\n",
      "smpl 3.804186559234891e-08\n",
      "avg 1.117401806489988e-07\n",
      "cmplx 1.047938616285539e-07\n"
     ]
    },
    {
     "name": "stderr",
     "output_type": "stream",
     "text": [
      "pyswarms.single.global_best: 100%|██████████████████████████████████████████████████████████|100/100, best_cost=7.63e-9\n",
      "2021-04-07 20:11:27,272 - pyswarms.single.global_best - INFO - Optimization finished | best cost: 7.627440364586582e-09, best pos: [8.26617894e-05 2.81863253e-05]\n",
      "2021-04-07 20:11:27,273 - pyswarms.single.global_best - INFO - Optimize for 100 iters with {'c1': 0.5, 'c2': 0.3, 'w': 0.9}\n",
      "pyswarms.single.global_best: 100%|██████████████████████████████████████████████████████████|100/100, best_cost=1.26e-9\n",
      "2021-04-07 20:11:27,492 - pyswarms.single.global_best - INFO - Optimization finished | best cost: 1.2647895183639563e-09, best pos: [-4.14831310e-06 -3.53211129e-05]\n",
      "2021-04-07 20:11:27,494 - pyswarms.single.global_best - INFO - Optimize for 100 iters with {'c1': 0.5, 'c2': 0.3, 'w': 0.9}\n",
      "pyswarms.single.global_best: 100%|██████████████████████████████████████████████████████████|100/100, best_cost=5.76e-9\n",
      "2021-04-07 20:11:27,758 - pyswarms.single.global_best - INFO - Optimization finished | best cost: 5.759793379318344e-09, best pos: [6.00484303e-05 4.64109836e-05]\n",
      "2021-04-07 20:11:27,809 - pyswarms.single.global_best - INFO - Optimize for 100 iters with {'c1': 0.5, 'c2': 0.3, 'w': 0.9}\n",
      "pyswarms.single.global_best:  50%|█████████████████████████████▌                             |50/100, best_cost=5.59e-7"
     ]
    },
    {
     "name": "stdout",
     "output_type": "stream",
     "text": [
      "\n",
      "generasi ke 4\n",
      "ucp 6.123600093338632\n",
      "smpl 3.813720182293291e-08\n",
      "avg 1.2647895183639563e-08\n",
      "cmplx 8.639690068977516e-08\n"
     ]
    },
    {
     "name": "stderr",
     "output_type": "stream",
     "text": [
      "pyswarms.single.global_best: 100%|█████████████████████████████████████████████████████████|100/100, best_cost=5.36e-10\n",
      "2021-04-07 20:11:28,019 - pyswarms.single.global_best - INFO - Optimization finished | best cost: 5.362032101392671e-10, best pos: [9.26410407e-06 2.12221485e-05]\n",
      "2021-04-07 20:11:28,020 - pyswarms.single.global_best - INFO - Optimize for 100 iters with {'c1': 0.5, 'c2': 0.3, 'w': 0.9}\n",
      "pyswarms.single.global_best: 100%|██████████████████████████████████████████████████████████|100/100, best_cost=3.68e-9\n",
      "2021-04-07 20:11:28,221 - pyswarms.single.global_best - INFO - Optimization finished | best cost: 3.683421173976462e-09, best pos: [-5.21458953e-05 -3.10520012e-05]\n",
      "2021-04-07 20:11:28,247 - pyswarms.single.global_best - INFO - Optimize for 100 iters with {'c1': 0.5, 'c2': 0.3, 'w': 0.9}\n",
      "pyswarms.single.global_best: 100%|█████████████████████████████████████████████████████████|100/100, best_cost=2.15e-10\n",
      "2021-04-07 20:11:28,447 - pyswarms.single.global_best - INFO - Optimization finished | best cost: 2.1520610158168418e-10, best pos: [9.03920694e-07 1.46420295e-05]\n",
      "2021-04-07 20:11:28,490 - pyswarms.single.global_best - INFO - Optimize for 100 iters with {'c1': 0.5, 'c2': 0.3, 'w': 0.9}\n",
      "pyswarms.single.global_best:  47%|███████████████████████████▋                               |47/100, best_cost=8.52e-7"
     ]
    },
    {
     "name": "stdout",
     "output_type": "stream",
     "text": [
      "\n",
      "generasi ke 5\n",
      "ucp 6.123600029082556\n",
      "smpl 2.681016050696336e-09\n",
      "avg 3.6834211739764624e-08\n",
      "cmplx 3.228091523725263e-09\n"
     ]
    },
    {
     "name": "stderr",
     "output_type": "stream",
     "text": [
      "pyswarms.single.global_best: 100%|██████████████████████████████████████████████████████████|100/100, best_cost=1.06e-8\n",
      "2021-04-07 20:11:28,708 - pyswarms.single.global_best - INFO - Optimization finished | best cost: 1.0591678154230738e-08, best pos: [9.23598153e-05 4.54020118e-05]\n",
      "2021-04-07 20:11:28,709 - pyswarms.single.global_best - INFO - Optimize for 100 iters with {'c1': 0.5, 'c2': 0.3, 'w': 0.9}\n",
      "pyswarms.single.global_best: 100%|██████████████████████████████████████████████████████████|100/100, best_cost=1.42e-8\n",
      "2021-04-07 20:11:28,947 - pyswarms.single.global_best - INFO - Optimization finished | best cost: 1.4177295296625859e-08, best pos: [ 8.61566055e-05 -8.21847590e-05]\n",
      "2021-04-07 20:11:28,954 - pyswarms.single.global_best - INFO - Optimize for 100 iters with {'c1': 0.5, 'c2': 0.3, 'w': 0.9}\n",
      "pyswarms.single.global_best: 100%|██████████████████████████████████████████████████████████|100/100, best_cost=3.24e-9\n",
      "2021-04-07 20:11:29,080 - pyswarms.single.global_best - INFO - Optimization finished | best cost: 3.243316311517032e-09, best pos: [-3.71973608e-05 -4.31239222e-05]\n",
      "2021-04-07 20:11:29,111 - pyswarms.single.global_best - INFO - Optimize for 100 iters with {'c1': 0.5, 'c2': 0.3, 'w': 0.9}\n",
      "pyswarms.single.global_best: 100%|██████████████████████████████████████████████████████████|100/100, best_cost=1.21e-8\n",
      "2021-04-07 20:11:29,232 - pyswarms.single.global_best - INFO - Optimization finished | best cost: 1.2145323323232455e-08, best pos: [-1.06966178e-04 -2.65247072e-05]\n",
      "2021-04-07 20:11:29,232 - pyswarms.single.global_best - INFO - Optimize for 100 iters with {'c1': 0.5, 'c2': 0.3, 'w': 0.9}\n",
      "pyswarms.single.global_best:   0%|                                                            |0/100, best_cost=3.17e-6"
     ]
    },
    {
     "name": "stdout",
     "output_type": "stream",
     "text": [
      "\n",
      "generasi ke 6\n",
      "ucp 6.123600165596492\n",
      "smpl 5.295839077115369e-08\n",
      "avg 1.417729529662586e-07\n",
      "cmplx 4.864974467275548e-08\n"
     ]
    },
    {
     "name": "stderr",
     "output_type": "stream",
     "text": [
      "pyswarms.single.global_best: 100%|███████████████████████████████████████████████████████████|100/100, best_cost=1.3e-8\n",
      "2021-04-07 20:11:29,346 - pyswarms.single.global_best - INFO - Optimization finished | best cost: 1.303258126762797e-08, best pos: [-1.10794842e-04  2.75151659e-05]\n",
      "2021-04-07 20:11:29,347 - pyswarms.single.global_best - INFO - Optimize for 100 iters with {'c1': 0.5, 'c2': 0.3, 'w': 0.9}\n",
      "pyswarms.single.global_best: 100%|██████████████████████████████████████████████████████████|100/100, best_cost=9.02e-9\n",
      "2021-04-07 20:11:29,465 - pyswarms.single.global_best - INFO - Optimization finished | best cost: 9.019472256692772e-09, best pos: [8.87823824e-05 3.37218153e-05]\n",
      "2021-04-07 20:11:29,497 - pyswarms.single.global_best - INFO - Optimize for 100 iters with {'c1': 0.5, 'c2': 0.3, 'w': 0.9}\n",
      "pyswarms.single.global_best:  53%|███████████████████████████████▎                           |53/100, best_cost=1.06e-8"
     ]
    },
    {
     "name": "stdout",
     "output_type": "stream",
     "text": [
      "\n",
      "generasi ke 7\n",
      "ucp 6.123600222044806\n",
      "smpl 6.072661661616228e-08\n",
      "avg 1.3032581267627969e-07\n",
      "cmplx 1.3529208385039157e-07\n"
     ]
    },
    {
     "name": "stderr",
     "output_type": "stream",
     "text": [
      "pyswarms.single.global_best: 100%|██████████████████████████████████████████████████████████|100/100, best_cost=1.06e-8\n",
      "2021-04-07 20:11:29,697 - pyswarms.single.global_best - INFO - Optimization finished | best cost: 1.0565503461597952e-08, best pos: [1.02575046e-04 6.62294163e-06]\n",
      "2021-04-07 20:11:29,700 - pyswarms.single.global_best - INFO - Optimize for 100 iters with {'c1': 0.5, 'c2': 0.3, 'w': 0.9}\n",
      "pyswarms.single.global_best: 100%|█████████████████████████████████████████████████████████|100/100, best_cost=9.72e-10\n",
      "2021-04-07 20:11:29,903 - pyswarms.single.global_best - INFO - Optimization finished | best cost: 9.722853032852674e-10, best pos: [3.07312889e-05 5.27950644e-06]\n",
      "2021-04-07 20:11:29,905 - pyswarms.single.global_best - INFO - Optimize for 100 iters with {'c1': 0.5, 'c2': 0.3, 'w': 0.9}\n",
      "pyswarms.single.global_best: 100%|██████████████████████████████████████████████████████████|100/100, best_cost=5.93e-9\n",
      "2021-04-07 20:11:30,140 - pyswarms.single.global_best - INFO - Optimization finished | best cost: 5.928937580048255e-09, best pos: [-7.69664089e-05 -2.26041551e-06]\n",
      "2021-04-07 20:11:30,171 - pyswarms.single.global_best - INFO - Optimize for 100 iters with {'c1': 0.5, 'c2': 0.3, 'w': 0.9}\n",
      "pyswarms.single.global_best:  50%|██████████████████████████████                              |50/100, best_cost=1.1e-7"
     ]
    },
    {
     "name": "stdout",
     "output_type": "stream",
     "text": [
      "\n",
      "generasi ke 8\n",
      "ucp 6.123600103070009\n",
      "smpl 5.282751730798976e-08\n",
      "avg 9.722853032852674e-09\n",
      "cmplx 8.893406370072383e-08\n"
     ]
    },
    {
     "name": "stderr",
     "output_type": "stream",
     "text": [
      "pyswarms.single.global_best: 100%|██████████████████████████████████████████████████████████|100/100, best_cost=5.92e-9\n",
      "2021-04-07 20:11:30,371 - pyswarms.single.global_best - INFO - Optimization finished | best cost: 5.915333615153542e-09, best pos: [ 3.89075227e-05 -6.63440901e-05]\n",
      "2021-04-07 20:11:30,373 - pyswarms.single.global_best - INFO - Optimize for 100 iters with {'c1': 0.5, 'c2': 0.3, 'w': 0.9}\n",
      "pyswarms.single.global_best: 100%|██████████████████████████████████████████████████████████|100/100, best_cost=1.73e-8\n",
      "2021-04-07 20:11:30,566 - pyswarms.single.global_best - INFO - Optimization finished | best cost: 1.7252843242441925e-08, best pos: [ 1.30180106e-04 -1.74923779e-05]\n",
      "2021-04-07 20:11:30,567 - pyswarms.single.global_best - INFO - Optimize for 100 iters with {'c1': 0.5, 'c2': 0.3, 'w': 0.9}\n",
      "pyswarms.single.global_best: 100%|██████████████████████████████████████████████████████████|100/100, best_cost=4.24e-9\n",
      "2021-04-07 20:11:30,801 - pyswarms.single.global_best - INFO - Optimization finished | best cost: 4.238311674485726e-09, best pos: [-1.77886360e-07  6.51020739e-05]\n",
      "2021-04-07 20:11:30,836 - pyswarms.single.global_best - INFO - Optimize for 100 iters with {'c1': 0.5, 'c2': 0.3, 'w': 0.9}\n",
      "pyswarms.single.global_best:  51%|██████████████████████████████                             |51/100, best_cost=2.92e-7"
     ]
    },
    {
     "name": "stdout",
     "output_type": "stream",
     "text": [
      "\n",
      "generasi ke 9\n",
      "ucp 6.123600180768519\n",
      "smpl 2.957666807576771e-08\n",
      "avg 1.7252843242441925e-07\n",
      "cmplx 6.35746751172859e-08\n"
     ]
    },
    {
     "name": "stderr",
     "output_type": "stream",
     "text": [
      "pyswarms.single.global_best: 100%|█████████████████████████████████████████████████████████████|100/100, best_cost=3e-9\n",
      "2021-04-07 20:11:31,037 - pyswarms.single.global_best - INFO - Optimization finished | best cost: 2.995027328607649e-09, best pos: [ 1.84433830e-05 -5.15254205e-05]\n",
      "2021-04-07 20:11:31,038 - pyswarms.single.global_best - INFO - Optimize for 100 iters with {'c1': 0.5, 'c2': 0.3, 'w': 0.9}\n",
      "pyswarms.single.global_best: 100%|██████████████████████████████████████████████████████████|100/100, best_cost=8.28e-9\n",
      "2021-04-07 20:11:31,231 - pyswarms.single.global_best - INFO - Optimization finished | best cost: 8.281227467753444e-09, best pos: [ 6.30796011e-05 -6.55910924e-05]\n",
      "2021-04-07 20:11:31,233 - pyswarms.single.global_best - INFO - Optimize for 100 iters with {'c1': 0.5, 'c2': 0.3, 'w': 0.9}\n",
      "pyswarms.single.global_best: 100%|██████████████████████████████████████████████████████████|100/100, best_cost=6.32e-9\n",
      "2021-04-07 20:11:31,445 - pyswarms.single.global_best - INFO - Optimization finished | best cost: 6.3166120319278035e-09, best pos: [ 6.09046309e-05 -5.10611199e-05]\n",
      "2021-04-07 20:11:31,491 - pyswarms.single.global_best - INFO - Optimize for 100 iters with {'c1': 0.5, 'c2': 0.3, 'w': 0.9}\n",
      "pyswarms.single.global_best:  45%|██████████████████████████▌                                |45/100, best_cost=7.56e-8"
     ]
    },
    {
     "name": "stdout",
     "output_type": "stream",
     "text": [
      "\n",
      "generasi ke 10\n",
      "ucp 6.123600131001897\n",
      "smpl 1.4975136643038244e-08\n",
      "avg 8.281227467753443e-08\n",
      "cmplx 9.474918047891705e-08\n"
     ]
    },
    {
     "name": "stderr",
     "output_type": "stream",
     "text": [
      "pyswarms.single.global_best: 100%|██████████████████████████████████████████████████████████|100/100, best_cost=3.43e-8\n",
      "2021-04-07 20:11:31,716 - pyswarms.single.global_best - INFO - Optimization finished | best cost: 3.431517812552407e-08, best pos: [0.00010874 0.00014997]\n",
      "2021-04-07 20:11:31,717 - pyswarms.single.global_best - INFO - Optimize for 100 iters with {'c1': 0.5, 'c2': 0.3, 'w': 0.9}\n",
      "pyswarms.single.global_best: 100%|██████████████████████████████████████████████████████████|100/100, best_cost=3.59e-9\n",
      "2021-04-07 20:11:31,914 - pyswarms.single.global_best - INFO - Optimization finished | best cost: 3.5937583610221636e-09, best pos: [-5.11243737e-06  5.97295684e-05]\n",
      "2021-04-07 20:11:31,915 - pyswarms.single.global_best - INFO - Optimize for 100 iters with {'c1': 0.5, 'c2': 0.3, 'w': 0.9}\n",
      "pyswarms.single.global_best: 100%|██████████████████████████████████████████████████████████|100/100, best_cost=9.73e-9\n",
      "2021-04-07 20:11:32,149 - pyswarms.single.global_best - INFO - Optimization finished | best cost: 9.72713267145539e-09, best pos: [-4.24736389e-05 -8.90119243e-05]\n",
      "2021-04-07 20:11:32,212 - pyswarms.single.global_best - INFO - Optimize for 100 iters with {'c1': 0.5, 'c2': 0.3, 'w': 0.9}\n",
      "pyswarms.single.global_best:  57%|█████████████████████████████████▋                         |57/100, best_cost=2.37e-7"
     ]
    },
    {
     "name": "stdout",
     "output_type": "stream",
     "text": [
      "\n",
      "generasi ke 11\n",
      "ucp 6.123600240467285\n",
      "smpl 1.7157589062762036e-07\n",
      "avg 3.5937583610221636e-08\n",
      "cmplx 1.4590699007183083e-07\n"
     ]
    },
    {
     "name": "stderr",
     "output_type": "stream",
     "text": [
      "pyswarms.single.global_best: 100%|██████████████████████████████████████████████████████████|100/100, best_cost=3.65e-9\n",
      "2021-04-07 20:11:32,403 - pyswarms.single.global_best - INFO - Optimization finished | best cost: 3.6451593023623154e-09, best pos: [4.95851619e-06 6.01711926e-05]\n",
      "2021-04-07 20:11:32,405 - pyswarms.single.global_best - INFO - Optimize for 100 iters with {'c1': 0.5, 'c2': 0.3, 'w': 0.9}\n",
      "pyswarms.single.global_best: 100%|██████████████████████████████████████████████████████████|100/100, best_cost=1.01e-8\n",
      "2021-04-07 20:11:32,604 - pyswarms.single.global_best - INFO - Optimization finished | best cost: 1.012698843664719e-08, best pos: [-7.62448415e-05  6.56788594e-05]\n",
      "2021-04-07 20:11:32,604 - pyswarms.single.global_best - INFO - Optimize for 100 iters with {'c1': 0.5, 'c2': 0.3, 'w': 0.9}\n",
      "pyswarms.single.global_best: 100%|██████████████████████████████████████████████████████████|100/100, best_cost=1.02e-9\n",
      "2021-04-07 20:11:32,807 - pyswarms.single.global_best - INFO - Optimization finished | best cost: 1.019237777708226e-09, best pos: [ 3.13442484e-05 -6.06431095e-06]\n",
      "2021-04-07 20:11:32,850 - pyswarms.single.global_best - INFO - Optimize for 100 iters with {'c1': 0.5, 'c2': 0.3, 'w': 0.9}\n",
      "pyswarms.single.global_best:  55%|████████████████████████████████▍                          |55/100, best_cost=5.54e-8"
     ]
    },
    {
     "name": "stdout",
     "output_type": "stream",
     "text": [
      "\n",
      "generasi ke 12\n",
      "ucp 6.123600091707202\n",
      "smpl 1.8225796511811577e-08\n",
      "avg 1.012698843664719e-07\n",
      "cmplx 1.5288566665623388e-08\n"
     ]
    },
    {
     "name": "stderr",
     "output_type": "stream",
     "text": [
      "pyswarms.single.global_best: 100%|██████████████████████████████████████████████████████████|100/100, best_cost=1.29e-8\n",
      "2021-04-07 20:11:33,041 - pyswarms.single.global_best - INFO - Optimization finished | best cost: 1.2869146598201272e-08, best pos: [-8.83968460e-05 -7.10995374e-05]\n",
      "2021-04-07 20:11:33,043 - pyswarms.single.global_best - INFO - Optimize for 100 iters with {'c1': 0.5, 'c2': 0.3, 'w': 0.9}\n",
      "pyswarms.single.global_best: 100%|███████████████████████████████████████████████████████████|100/100, best_cost=8.4e-9\n",
      "2021-04-07 20:11:33,243 - pyswarms.single.global_best - INFO - Optimization finished | best cost: 8.402924351362323e-09, best pos: [ 1.51784917e-06 -9.16548989e-05]\n",
      "2021-04-07 20:11:33,245 - pyswarms.single.global_best - INFO - Optimize for 100 iters with {'c1': 0.5, 'c2': 0.3, 'w': 0.9}\n",
      "pyswarms.single.global_best: 100%|█████████████████████████████████████████████████████████|100/100, best_cost=7.59e-10\n",
      "2021-04-07 20:11:33,465 - pyswarms.single.global_best - INFO - Optimization finished | best cost: 7.588679715196225e-10, best pos: [-2.74096109e-05 -2.75339864e-06]\n",
      "2021-04-07 20:11:33,501 - pyswarms.single.global_best - INFO - Optimize for 100 iters with {'c1': 0.5, 'c2': 0.3, 'w': 0.9}\n",
      "pyswarms.single.global_best:  55%|████████████████████████████████▍                          |55/100, best_cost=1.19e-7"
     ]
    },
    {
     "name": "stdout",
     "output_type": "stream",
     "text": [
      "\n",
      "generasi ke 13\n",
      "ucp 6.12360010869934\n",
      "smpl 6.434573299100636e-08\n",
      "avg 8.402924351362323e-08\n",
      "cmplx 1.1383019572794339e-08\n"
     ]
    },
    {
     "name": "stderr",
     "output_type": "stream",
     "text": [
      "pyswarms.single.global_best: 100%|███████████████████████████████████████████████████████████|100/100, best_cost=7.2e-9\n",
      "2021-04-07 20:11:33,704 - pyswarms.single.global_best - INFO - Optimization finished | best cost: 7.198775546383305e-09, best pos: [-2.14555692e-05 -8.20879656e-05]\n",
      "2021-04-07 20:11:33,705 - pyswarms.single.global_best - INFO - Optimize for 100 iters with {'c1': 0.5, 'c2': 0.3, 'w': 0.9}\n",
      "pyswarms.single.global_best: 100%|██████████████████████████████████████████████████████████|100/100, best_cost=1.52e-8\n",
      "2021-04-07 20:11:33,906 - pyswarms.single.global_best - INFO - Optimization finished | best cost: 1.5213953691379607e-08, best pos: [-1.22566789e-04  1.38324186e-05]\n",
      "2021-04-07 20:11:33,911 - pyswarms.single.global_best - INFO - Optimize for 100 iters with {'c1': 0.5, 'c2': 0.3, 'w': 0.9}\n",
      "pyswarms.single.global_best: 100%|█████████████████████████████████████████████████████████|100/100, best_cost=1.45e-10\n",
      "2021-04-07 20:11:34,139 - pyswarms.single.global_best - INFO - Optimization finished | best cost: 1.451486693596977e-10, best pos: [3.89089363e-06 1.14021759e-05]\n",
      "2021-04-07 20:11:34,223 - pyswarms.single.global_best - INFO - Optimize for 100 iters with {'c1': 0.5, 'c2': 0.3, 'w': 0.9}\n",
      "pyswarms.single.global_best:  48%|████████████████████████████▎                              |48/100, best_cost=2.38e-7"
     ]
    },
    {
     "name": "stdout",
     "output_type": "stream",
     "text": [
      "\n",
      "generasi ke 14\n",
      "ucp 6.123600129487363\n",
      "smpl 3.5993877731916526e-08\n",
      "avg 1.5213953691379608e-07\n",
      "cmplx 2.1772300403954652e-09\n"
     ]
    },
    {
     "name": "stderr",
     "output_type": "stream",
     "text": [
      "pyswarms.single.global_best: 100%|██████████████████████████████████████████████████████████|100/100, best_cost=8.72e-9\n",
      "2021-04-07 20:11:34,437 - pyswarms.single.global_best - INFO - Optimization finished | best cost: 8.722809771743218e-09, best pos: [-5.86669823e-05 -7.26704545e-05]\n",
      "2021-04-07 20:11:34,438 - pyswarms.single.global_best - INFO - Optimize for 100 iters with {'c1': 0.5, 'c2': 0.3, 'w': 0.9}\n",
      "pyswarms.single.global_best: 100%|██████████████████████████████████████████████████████████|100/100, best_cost=1.06e-8\n",
      "2021-04-07 20:11:34,629 - pyswarms.single.global_best - INFO - Optimization finished | best cost: 1.0644125912688055e-08, best pos: [-6.61357955e-05 -7.91844837e-05]\n",
      "2021-04-07 20:11:34,648 - pyswarms.single.global_best - INFO - Optimize for 100 iters with {'c1': 0.5, 'c2': 0.3, 'w': 0.9}\n",
      "pyswarms.single.global_best: 100%|██████████████████████████████████████████████████████████|100/100, best_cost=2.15e-8\n",
      "2021-04-07 20:11:34,841 - pyswarms.single.global_best - INFO - Optimization finished | best cost: 2.153190858794885e-08, best pos: [-4.75158504e-05  1.38831382e-04]\n",
      "2021-04-07 20:11:34,886 - pyswarms.single.global_best - INFO - Optimize for 100 iters with {'c1': 0.5, 'c2': 0.3, 'w': 0.9}\n",
      "pyswarms.single.global_best:  46%|███████████████████████████▏                               |46/100, best_cost=1.25e-7"
     ]
    },
    {
     "name": "stdout",
     "output_type": "stream",
     "text": [
      "\n",
      "generasi ke 15\n",
      "ucp 6.123600321852291\n",
      "smpl 4.361404885871609e-08\n",
      "avg 1.0644125912688055e-07\n",
      "cmplx 3.2297862881923274e-07\n"
     ]
    },
    {
     "name": "stderr",
     "output_type": "stream",
     "text": [
      "pyswarms.single.global_best: 100%|██████████████████████████████████████████████████████████|100/100, best_cost=8.96e-9\n",
      "2021-04-07 20:11:35,110 - pyswarms.single.global_best - INFO - Optimization finished | best cost: 8.96202670145184e-09, best pos: [1.98824170e-07 9.46677726e-05]\n",
      "2021-04-07 20:11:35,112 - pyswarms.single.global_best - INFO - Optimize for 100 iters with {'c1': 0.5, 'c2': 0.3, 'w': 0.9}\n",
      "pyswarms.single.global_best: 100%|██████████████████████████████████████████████████████████|100/100, best_cost=2.44e-9\n",
      "2021-04-07 20:11:35,370 - pyswarms.single.global_best - INFO - Optimization finished | best cost: 2.4429750922273993e-09, best pos: [-2.08810775e-05 -4.47990591e-05]\n",
      "2021-04-07 20:11:35,372 - pyswarms.single.global_best - INFO - Optimize for 100 iters with {'c1': 0.5, 'c2': 0.3, 'w': 0.9}\n",
      "pyswarms.single.global_best: 100%|██████████████████████████████████████████████████████████|100/100, best_cost=1.25e-8\n",
      "2021-04-07 20:11:35,590 - pyswarms.single.global_best - INFO - Optimization finished | best cost: 1.2486624876620259e-08, best pos: [-1.11598031e-04 -5.70125746e-06]\n",
      "2021-04-07 20:11:35,633 - pyswarms.single.global_best - INFO - Optimize for 100 iters with {'c1': 0.5, 'c2': 0.3, 'w': 0.9}\n",
      "pyswarms.single.global_best:  51%|██████████████████████████████                             |51/100, best_cost=8.22e-8"
     ]
    },
    {
     "name": "stdout",
     "output_type": "stream",
     "text": [
      "\n",
      "generasi ke 16\n",
      "ucp 6.123600174549312\n",
      "smpl 4.48101335072592e-08\n",
      "avg 2.442975092227399e-08\n",
      "cmplx 1.8729937314930387e-07\n"
     ]
    },
    {
     "name": "stderr",
     "output_type": "stream",
     "text": [
      "pyswarms.single.global_best: 100%|██████████████████████████████████████████████████████████|100/100, best_cost=2.14e-8\n",
      "2021-04-07 20:11:35,849 - pyswarms.single.global_best - INFO - Optimization finished | best cost: 2.142690123278077e-08, best pos: [-1.14464865e-04  9.12397716e-05]\n",
      "2021-04-07 20:11:35,851 - pyswarms.single.global_best - INFO - Optimize for 100 iters with {'c1': 0.5, 'c2': 0.3, 'w': 0.9}\n",
      "pyswarms.single.global_best: 100%|██████████████████████████████████████████████████████████|100/100, best_cost=2.34e-8\n",
      "2021-04-07 20:11:36,061 - pyswarms.single.global_best - INFO - Optimization finished | best cost: 2.342825452115701e-08, best pos: [-1.30298680e-04  8.03150581e-05]\n",
      "2021-04-07 20:11:36,062 - pyswarms.single.global_best - INFO - Optimize for 100 iters with {'c1': 0.5, 'c2': 0.3, 'w': 0.9}\n",
      "pyswarms.single.global_best: 100%|█████████████████████████████████████████████████████████|100/100, best_cost=2.15e-10\n",
      "2021-04-07 20:11:36,256 - pyswarms.single.global_best - INFO - Optimization finished | best cost: 2.1530318896754502e-10, best pos: [1.45867646e-05 1.59043584e-06]\n",
      "2021-04-07 20:11:36,297 - pyswarms.single.global_best - INFO - Optimize for 100 iters with {'c1': 0.5, 'c2': 0.3, 'w': 0.9}\n",
      "pyswarms.single.global_best:  56%|█████████████████████████████████                          |56/100, best_cost=1.89e-7"
     ]
    },
    {
     "name": "stdout",
     "output_type": "stream",
     "text": [
      "\n",
      "generasi ke 17\n",
      "ucp 6.123600234497546\n",
      "smpl 1.0713450616390385e-07\n",
      "avg 2.3428254521157011e-07\n",
      "cmplx 3.229547834513175e-09\n"
     ]
    },
    {
     "name": "stderr",
     "output_type": "stream",
     "text": [
      "pyswarms.single.global_best: 100%|██████████████████████████████████████████████████████████|100/100, best_cost=4.18e-9\n",
      "2021-04-07 20:11:36,486 - pyswarms.single.global_best - INFO - Optimization finished | best cost: 4.179106419722834e-09, best pos: [4.91046151e-05 4.20457274e-05]\n",
      "2021-04-07 20:11:36,488 - pyswarms.single.global_best - INFO - Optimize for 100 iters with {'c1': 0.5, 'c2': 0.3, 'w': 0.9}\n",
      "pyswarms.single.global_best: 100%|██████████████████████████████████████████████████████████|100/100, best_cost=4.57e-9\n",
      "2021-04-07 20:11:36,684 - pyswarms.single.global_best - INFO - Optimization finished | best cost: 4.566805484730753e-09, best pos: [ 3.94499500e-05 -5.48680866e-05]\n",
      "2021-04-07 20:11:36,686 - pyswarms.single.global_best - INFO - Optimize for 100 iters with {'c1': 0.5, 'c2': 0.3, 'w': 0.9}\n",
      "pyswarms.single.global_best: 100%|██████████████████████████████████████████████████████████|100/100, best_cost=4.64e-9\n",
      "2021-04-07 20:11:36,883 - pyswarms.single.global_best - INFO - Optimization finished | best cost: 4.643904489631032e-09, best pos: [ 4.12854797e-06 -6.80210231e-05]\n",
      "2021-04-07 20:11:36,945 - pyswarms.single.global_best - INFO - Optimize for 100 iters with {'c1': 0.5, 'c2': 0.3, 'w': 0.9}\n",
      "pyswarms.single.global_best:  45%|███████████████████████████                                 |45/100, best_cost=1.1e-6"
     ]
    },
    {
     "name": "stdout",
     "output_type": "stream",
     "text": [
      "\n",
      "generasi ke 18\n",
      "ucp 6.123600092685554\n",
      "smpl 2.089553209861417e-08\n",
      "avg 4.5668054847307525e-08\n",
      "cmplx 6.965856734446549e-08\n"
     ]
    },
    {
     "name": "stderr",
     "output_type": "stream",
     "text": [
      "pyswarms.single.global_best: 100%|██████████████████████████████████████████████████████████|100/100, best_cost=1.03e-8\n",
      "2021-04-07 20:11:37,170 - pyswarms.single.global_best - INFO - Optimization finished | best cost: 1.0309235319188837e-08, best pos: [1.01464525e-04 3.76637556e-06]\n",
      "2021-04-07 20:11:37,172 - pyswarms.single.global_best - INFO - Optimize for 100 iters with {'c1': 0.5, 'c2': 0.3, 'w': 0.9}\n",
      "pyswarms.single.global_best: 100%|██████████████████████████████████████████████████████████|100/100, best_cost=9.28e-9\n",
      "2021-04-07 20:11:37,373 - pyswarms.single.global_best - INFO - Optimization finished | best cost: 9.28030678207898e-09, best pos: [-2.88083739e-05  9.19259723e-05]\n",
      "2021-04-07 20:11:37,377 - pyswarms.single.global_best - INFO - Optimize for 100 iters with {'c1': 0.5, 'c2': 0.3, 'w': 0.9}\n",
      "pyswarms.single.global_best: 100%|███████████████████████████████████████████████████████████|100/100, best_cost=2.4e-9\n",
      "2021-04-07 20:11:37,583 - pyswarms.single.global_best - INFO - Optimization finished | best cost: 2.403611574443872e-09, best pos: [-3.14911561e-06 -4.89253988e-05]\n"
     ]
    },
    {
     "name": "stdout",
     "output_type": "stream",
     "text": [
      "\n",
      "generasi ke 19\n",
      "ucp 6.1236001227464865\n",
      "smpl 5.1546176595944185e-08\n",
      "avg 9.28030678207898e-08\n",
      "cmplx 3.6054173616658076e-08\n"
     ]
    }
   ],
   "source": [
    "gen = 20\n",
    "target = 576 \n",
    "tcf = 0.81\n",
    "ecf = 0.84\n",
    "uaw = 9\n",
    "best_smpl = 0\n",
    "best_avg = 0\n",
    "best_cmplx = 0\n",
    "best_gap = 100\n",
    "for i in range(gen):\n",
    "  optimizer1 = ps.single.GlobalBestPSO(n_particles=100, dimensions=2, options=options)\n",
    "  optimizer2 = ps.single.GlobalBestPSO(n_particles=100, dimensions=2, options=options)\n",
    "  optimizer3 = ps.single.GlobalBestPSO(n_particles=100, dimensions=2, options=options)\n",
    "\n",
    "  best_cost1, best_pos1 = optimizer1.optimize(fx.sphere, iters=100)\n",
    "  best_cost2, best_pos2 = optimizer2.optimize(fx.sphere, iters=100)\n",
    "  best_cost3, best_pos3 = optimizer3.optimize(fx.sphere, iters=100)\n",
    "\n",
    "  smpl = 5*best_cost1\n",
    "  avg = 10*best_cost2\n",
    "  cmplx = 15*best_cost3\n",
    "\n",
    "  uucw = smpl + avg + cmplx\n",
    "\n",
    "  uucp = uaw + uucw\n",
    "\n",
    "  ucp = uucp * tcf * ecf\n",
    "\n",
    "  gap = np.abs(ucp-target)\n",
    "\n",
    "  print()\n",
    "  print('generasi ke', i)\n",
    "  print(\"ucp\", ucp)\n",
    "  print(\"smpl\", smpl)\n",
    "  print(\"avg\", avg)\n",
    "  print(\"cmplx\", cmplx)\n",
    "\n",
    "  if gap < best_gap:\n",
    "    best_smpl = smpl\n",
    "    best_avg = avg\n",
    "    best_cmplx = cmplx"
   ]
  },
  {
   "cell_type": "code",
   "execution_count": 6,
   "metadata": {},
   "outputs": [
    {
     "name": "stdout",
     "output_type": "stream",
     "text": [
      "0\n",
      "0\n",
      "0\n"
     ]
    }
   ],
   "source": [
    "print(best_smpl)\n",
    "print(best_avg)\n",
    "print(best_cmplx)"
   ]
  },
  {
   "cell_type": "code",
   "execution_count": null,
   "metadata": {},
   "outputs": [],
   "source": []
  }
 ],
 "metadata": {
  "kernelspec": {
   "display_name": "Python 3",
   "language": "python",
   "name": "python3"
  },
  "language_info": {
   "codemirror_mode": {
    "name": "ipython",
    "version": 3
   },
   "file_extension": ".py",
   "mimetype": "text/x-python",
   "name": "python",
   "nbconvert_exporter": "python",
   "pygments_lexer": "ipython3",
   "version": "3.8.0"
  }
 },
 "nbformat": 4,
 "nbformat_minor": 4
}
